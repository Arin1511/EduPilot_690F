{
 "cells": [
  {
   "cell_type": "code",
   "id": "initial_id",
   "metadata": {
    "collapsed": true,
    "ExecuteTime": {
     "end_time": "2025-09-20T22:18:15.255671Z",
     "start_time": "2025-09-20T22:18:15.000802Z"
    }
   },
   "source": [
    "# Cell 1: imports & config\n",
    "# (uncomment install lines if you need to install packages)\n",
    "# !pip install -U scikit-learn scipy pandas numpy matplotlib\n",
    "\n",
    "import numpy as np\n",
    "import pandas as pd\n",
    "import matplotlib.pyplot as plt\n",
    "from scipy.sparse import vstack\n",
    "from sklearn.model_selection import train_test_split\n",
    "from sklearn.feature_extraction.text import TfidfVectorizer\n",
    "from sklearn.preprocessing import LabelEncoder, OneHotEncoder\n",
    "from sklearn.neural_network import MLPClassifier\n",
    "from sklearn.linear_model import LogisticRegression\n",
    "from sklearn.utils import resample\n",
    "from sklearn.metrics import roc_auc_score, roc_curve\n",
    "from scipy.stats import norm\n",
    "\n",
    "RND = 42\n",
    "np.random.seed(RND)\n"
   ],
   "outputs": [],
   "execution_count": 1
  },
  {
   "metadata": {
    "ExecuteTime": {
     "end_time": "2025-09-20T22:18:18.442145Z",
     "start_time": "2025-09-20T22:18:18.420223Z"
    }
   },
   "cell_type": "code",
   "source": [
    "# Cell 2: load data\n",
    "CSV_PATH = \"EduPilot_dataset.csv\"   # change if needed (e.g. \"EduPilot_dataset_2000.csv\")\n",
    "df = pd.read_csv(CSV_PATH)\n",
    "print(\"Rows, cols:\", df.shape)\n",
    "print(df.columns.tolist())\n",
    "display(df.head(3))\n"
   ],
   "id": "fb198b34ab6de2f2",
   "outputs": [
    {
     "name": "stdout",
     "output_type": "stream",
     "text": [
      "Rows, cols: (120, 7)\n",
      "['id', 'user_query', 'job_role', 'company', 'location', 'interview_round', 'mock_question']\n"
     ]
    },
    {
     "data": {
      "text/plain": [
       "   id                                         user_query           job_role  \\\n",
       "0   1  Help me prepare for Data Scientist at Microsof...     Data Scientist   \n",
       "1   2  Help me prepare for SRE at NVIDIA in Remote. F...                SRE   \n",
       "2   3  Help me prepare for Software Engineer at Airbn...  Software Engineer   \n",
       "\n",
       "     company location interview_round                       mock_question  \n",
       "0  Microsoft   Boston              OA  Running median from a data stream.  \n",
       "1     NVIDIA   Remote              OA  Running median from a data stream.  \n",
       "2     Airbnb  Toronto              OA          Dijkstra on sparse graphs.  "
      ],
      "text/html": [
       "<div>\n",
       "<style scoped>\n",
       "    .dataframe tbody tr th:only-of-type {\n",
       "        vertical-align: middle;\n",
       "    }\n",
       "\n",
       "    .dataframe tbody tr th {\n",
       "        vertical-align: top;\n",
       "    }\n",
       "\n",
       "    .dataframe thead th {\n",
       "        text-align: right;\n",
       "    }\n",
       "</style>\n",
       "<table border=\"1\" class=\"dataframe\">\n",
       "  <thead>\n",
       "    <tr style=\"text-align: right;\">\n",
       "      <th></th>\n",
       "      <th>id</th>\n",
       "      <th>user_query</th>\n",
       "      <th>job_role</th>\n",
       "      <th>company</th>\n",
       "      <th>location</th>\n",
       "      <th>interview_round</th>\n",
       "      <th>mock_question</th>\n",
       "    </tr>\n",
       "  </thead>\n",
       "  <tbody>\n",
       "    <tr>\n",
       "      <th>0</th>\n",
       "      <td>1</td>\n",
       "      <td>Help me prepare for Data Scientist at Microsof...</td>\n",
       "      <td>Data Scientist</td>\n",
       "      <td>Microsoft</td>\n",
       "      <td>Boston</td>\n",
       "      <td>OA</td>\n",
       "      <td>Running median from a data stream.</td>\n",
       "    </tr>\n",
       "    <tr>\n",
       "      <th>1</th>\n",
       "      <td>2</td>\n",
       "      <td>Help me prepare for SRE at NVIDIA in Remote. F...</td>\n",
       "      <td>SRE</td>\n",
       "      <td>NVIDIA</td>\n",
       "      <td>Remote</td>\n",
       "      <td>OA</td>\n",
       "      <td>Running median from a data stream.</td>\n",
       "    </tr>\n",
       "    <tr>\n",
       "      <th>2</th>\n",
       "      <td>3</td>\n",
       "      <td>Help me prepare for Software Engineer at Airbn...</td>\n",
       "      <td>Software Engineer</td>\n",
       "      <td>Airbnb</td>\n",
       "      <td>Toronto</td>\n",
       "      <td>OA</td>\n",
       "      <td>Dijkstra on sparse graphs.</td>\n",
       "    </tr>\n",
       "  </tbody>\n",
       "</table>\n",
       "</div>"
      ]
     },
     "metadata": {},
     "output_type": "display_data"
    }
   ],
   "execution_count": 2
  },
  {
   "metadata": {
    "ExecuteTime": {
     "end_time": "2025-09-20T22:18:23.780130Z",
     "start_time": "2025-09-20T22:18:23.755631Z"
    }
   },
   "cell_type": "code",
   "source": [
    "# Cell 3: text features and labels\n",
    "# Choose which columns to combine into text; adjust if columns are named differently\n",
    "text_cols = [\"user_query\", \"job_role\", \"company\", \"location\", \"mock_question\"]\n",
    "for c in text_cols:\n",
    "    if c not in df.columns:\n",
    "        raise ValueError(f\"Missing column: {c}\")\n",
    "\n",
    "df[\"text\"] = df[text_cols].fillna(\"\").agg(\" | \".join, axis=1)\n",
    "\n",
    "# Encode interview_round to integers (0..K-1)\n",
    "if \"interview_round\" not in df.columns:\n",
    "    raise ValueError(\"Missing column: interview_round\")\n",
    "le = LabelEncoder()\n",
    "y = le.fit_transform(df[\"interview_round\"].astype(str).values)\n",
    "print(\"Label classes:\", list(le.classes_))\n",
    "\n",
    "# TF-IDF vectorization\n",
    "vec = TfidfVectorizer(max_features=5000, ngram_range=(1,2))\n",
    "X = vec.fit_transform(df[\"text\"])\n",
    "print(\"TF-IDF shape:\", X.shape)\n"
   ],
   "id": "c4d39f811cb5e742",
   "outputs": [
    {
     "name": "stdout",
     "output_type": "stream",
     "text": [
      "Label classes: ['Behavioral/HR', 'ML Case Study', 'OA', 'System Design', 'Technical']\n",
      "TF-IDF shape: (120, 476)\n"
     ]
    }
   ],
   "execution_count": 3
  },
  {
   "metadata": {
    "ExecuteTime": {
     "end_time": "2025-09-20T22:18:28.430151Z",
     "start_time": "2025-09-20T22:18:28.415724Z"
    }
   },
   "cell_type": "code",
   "source": [
    "# Cell 4: splits\n",
    "# You can tweak test_size / holdout fractions\n",
    "X_tr_all, X_te_all, y_tr_all, y_te_all = train_test_split(\n",
    "    X, y, test_size=0.35, stratify=y, random_state=RND\n",
    ")\n",
    "\n",
    "# keep a small holdout from training to use in the shadow pool\n",
    "X_tr, X_hold, y_tr, y_hold = train_test_split(\n",
    "    X_tr_all, y_tr_all, test_size=0.20, stratify=y_tr_all, random_state=RND+1\n",
    ")\n",
    "\n",
    "print(\"Shapes:\")\n",
    "print(\"  Victim train:\", X_tr.shape, y_tr.shape)\n",
    "print(\"  Victim hold: \", X_hold.shape, y_hold.shape)\n",
    "print(\"  Victim test: \", X_te_all.shape, y_te_all.shape)\n"
   ],
   "id": "ea89722c26dd84e7",
   "outputs": [
    {
     "name": "stdout",
     "output_type": "stream",
     "text": [
      "Shapes:\n",
      "  Victim train: (62, 476) (62,)\n",
      "  Victim hold:  (16, 476) (16,)\n",
      "  Victim test:  (42, 476) (42,)\n"
     ]
    }
   ],
   "execution_count": 4
  },
  {
   "metadata": {
    "ExecuteTime": {
     "end_time": "2025-09-20T22:18:32.705963Z",
     "start_time": "2025-09-20T22:18:32.687295Z"
    }
   },
   "cell_type": "code",
   "source": [
    "# Cell 5: helper functions\n",
    "def per_example_loss(model, Xmat, y_true, eps=1e-12):\n",
    "    \"\"\"Negative log prob of the true class for each example.\"\"\"\n",
    "    proba = model.predict_proba(Xmat)\n",
    "    rows = np.arange(Xmat.shape[0])\n",
    "    p_true = np.clip(proba[rows, y_true], eps, 1.0-eps)\n",
    "    return -np.log(p_true)\n",
    "\n",
    "def tpr_at_fpr(y_true, scores, fpr_target):\n",
    "    fpr, tpr, _ = roc_curve(y_true, scores)\n",
    "    if np.max(fpr) < fpr_target:\n",
    "        return float(tpr[np.argmax(tpr)])\n",
    "    i = np.searchsorted(fpr, fpr_target, side=\"right\")\n",
    "    if i == 0:\n",
    "        return float(tpr[0])\n",
    "    f0, t0, f1, t1 = fpr[i-1], tpr[i-1], fpr[i], tpr[i]\n",
    "    if f1 == f0:\n",
    "        return float(t1)\n",
    "    return float(t0 + (fpr_target - f0) * (t1 - t0) / (f1 - f0))\n",
    "\n",
    "def print_metrics(y_true, scores, name=\"Attack\"):\n",
    "    auc = roc_auc_score(y_true, scores)\n",
    "    print(f\"{name} AUC: {auc:.4f}\")\n",
    "    for f in [0.001, 0.01, 0.1]:\n",
    "        print(f\"  TPR@FPR={f:.3f}: {tpr_at_fpr(y_true, scores, f):.4f}\")\n",
    "    return auc\n"
   ],
   "id": "f85224e03908b293",
   "outputs": [],
   "execution_count": 5
  },
  {
   "metadata": {
    "ExecuteTime": {
     "end_time": "2025-09-20T22:18:38.176853Z",
     "start_time": "2025-09-20T22:18:38.055152Z"
    }
   },
   "cell_type": "code",
   "source": [
    "# Cell 6: train MLP victim\n",
    "mlp = MLPClassifier(hidden_layer_sizes=(128,), activation='relu',\n",
    "                    solver='adam', alpha=1e-4, max_iter=300, random_state=RND)\n",
    "print(\"Training MLP victim...\")\n",
    "mlp.fit(X_tr, y_tr)\n",
    "\n",
    "# get per-example losses for members and non-members\n",
    "loss_members_mlp    = per_example_loss(mlp, X_tr,    y_tr)\n",
    "loss_nonmembers_mlp = per_example_loss(mlp, X_te_all, y_te_all)\n",
    "\n",
    "print(\"Victim MLP mean loss (members)   :\", float(loss_members_mlp.mean()))\n",
    "print(\"Victim MLP mean loss (non-members):\", float(loss_nonmembers_mlp.mean()))\n"
   ],
   "id": "82fe6d3ffc3bda42",
   "outputs": [
    {
     "name": "stdout",
     "output_type": "stream",
     "text": [
      "Training MLP victim...\n",
      "Victim MLP mean loss (members)   : 0.008358719313839975\n",
      "Victim MLP mean loss (non-members): 0.09556013770525744\n"
     ]
    }
   ],
   "execution_count": 6
  },
  {
   "metadata": {
    "ExecuteTime": {
     "end_time": "2025-09-20T22:18:46.605661Z",
     "start_time": "2025-09-20T22:18:42.874263Z"
    }
   },
   "cell_type": "code",
   "source": [
    "# Cell 7: create shadow models and collect attack training data\n",
    "X_pool = vstack([X_hold, X_te_all])\n",
    "y_pool = np.concatenate([y_hold, y_te_all])\n",
    "\n",
    "K_SHADOWS = 30               # increase if you have compute\n",
    "SAMPLE_FRAC_TRAIN = 0.6\n",
    "SAMPLE_FRAC_TEST  = 0.4\n",
    "\n",
    "attack_feat_list = []\n",
    "attack_label_list = []\n",
    "\n",
    "labelonly_feat_list = []\n",
    "labelonly_label_list = []\n",
    "\n",
    "shadow_member_losses = []\n",
    "shadow_nonmember_losses = []\n",
    "\n",
    "pool_idx = np.arange(X_pool.shape[0])\n",
    "\n",
    "for k in range(K_SHADOWS):\n",
    "    tr_idx = resample(pool_idx, n_samples=int(SAMPLE_FRAC_TRAIN * len(pool_idx)),\n",
    "                      replace=True, random_state=1000 + k)\n",
    "    te_idx = resample(pool_idx, n_samples=int(SAMPLE_FRAC_TEST * len(pool_idx)),\n",
    "                      replace=True, random_state=2000 + k)\n",
    "    Xs_tr, ys_tr = X_pool[tr_idx], y_pool[tr_idx]\n",
    "    Xs_te, ys_te = X_pool[te_idx], y_pool[te_idx]\n",
    "\n",
    "    # train shadow MLP (same architecture as victim helps)\n",
    "    sh = MLPClassifier(hidden_layer_sizes=(128,), max_iter=300, random_state=RND + k)\n",
    "    sh.fit(Xs_tr, ys_tr)\n",
    "\n",
    "    # collect losses for LiRA analysis (you said LiRA separate; collecting is fine to inspect)\n",
    "    shadow_member_losses.extend(per_example_loss(sh, Xs_tr, ys_tr))\n",
    "    shadow_nonmember_losses.extend(per_example_loss(sh, Xs_te, ys_te))\n",
    "\n",
    "    # collect predict_proba features and labels for attack classifier\n",
    "    proba_tr = sh.predict_proba(Xs_tr)\n",
    "    proba_te = sh.predict_proba(Xs_te)\n",
    "    attack_feat_list.append(proba_tr); attack_label_list.append(np.ones(proba_tr.shape[0], dtype=int))\n",
    "    attack_feat_list.append(proba_te); attack_label_list.append(np.zeros(proba_te.shape[0], dtype=int))\n",
    "\n",
    "    # label-only predicted labels\n",
    "    lbl_tr = sh.predict(Xs_tr).reshape(-1, 1)\n",
    "    lbl_te = sh.predict(Xs_te).reshape(-1, 1)\n",
    "    labelonly_feat_list.append(lbl_tr); labelonly_label_list.append(np.ones(lbl_tr.shape[0], dtype=int))\n",
    "    labelonly_feat_list.append(lbl_te); labelonly_label_list.append(np.zeros(lbl_te.shape[0], dtype=int))\n",
    "\n",
    "# Stack\n",
    "X_attack_feats = np.vstack(attack_feat_list)\n",
    "y_attack_labels = np.concatenate(attack_label_list)\n",
    "\n",
    "X_label_feats = np.vstack(labelonly_feat_list)\n",
    "y_label_members = np.concatenate(labelonly_label_list)\n",
    "\n",
    "shadow_member_losses = np.array(shadow_member_losses, dtype=float)\n",
    "shadow_nonmember_losses = np.array(shadow_nonmember_losses, dtype=float)\n",
    "\n",
    "print(\"Collected attack training examples:\", X_attack_feats.shape, y_attack_labels.shape)\n",
    "print(\"Label-only training examples:\", X_label_feats.shape, y_label_members.shape)\n",
    "print(\"Shadow loss stats (member μ±σ):\", shadow_member_losses.mean(), shadow_member_losses.std())\n",
    "print(\"Shadow loss stats (nonmem μ±σ):\", shadow_nonmember_losses.mean(), shadow_nonmember_losses.std())\n"
   ],
   "id": "495c69fab9918d10",
   "outputs": [
    {
     "name": "stdout",
     "output_type": "stream",
     "text": [
      "Collected attack training examples: (1710, 5) (1710,)\n",
      "Label-only training examples: (1710, 1) (1710,)\n",
      "Shadow loss stats (member μ±σ): 0.008108871893498949 0.0039033007021012866\n",
      "Shadow loss stats (nonmem μ±σ): 0.25914156115392495 0.6061498168902792\n"
     ]
    }
   ],
   "execution_count": 7
  },
  {
   "metadata": {
    "ExecuteTime": {
     "end_time": "2025-09-20T22:18:48.528378Z",
     "start_time": "2025-09-20T22:18:48.511985Z"
    }
   },
   "cell_type": "code",
   "source": [
    "# Cell 8: loss-threshold baseline on victim MLP\n",
    "y_eval_is_member = np.concatenate([np.ones(len(y_tr)), np.zeros(len(y_te_all))]).astype(int)\n",
    "loss_eval_mlp = np.concatenate([per_example_loss(mlp, X_tr, y_tr), per_example_loss(mlp, X_te_all, y_te_all)])\n",
    "thresh_scores_mlp = -loss_eval_mlp\n",
    "\n",
    "print(\"Loss-threshold attack (MLP victim):\")\n",
    "print_metrics(y_eval_is_member, thresh_scores_mlp, name=\"Threshold-MLP\")\n"
   ],
   "id": "ca26163b31d024f1",
   "outputs": [
    {
     "name": "stdout",
     "output_type": "stream",
     "text": [
      "Loss-threshold attack (MLP victim):\n",
      "Threshold-MLP AUC: 0.9305\n",
      "  TPR@FPR=0.001: 0.0806\n",
      "  TPR@FPR=0.010: 0.0806\n",
      "  TPR@FPR=0.100: 0.8548\n"
     ]
    },
    {
     "data": {
      "text/plain": [
       "0.9304915514592934"
      ]
     },
     "execution_count": 8,
     "metadata": {},
     "output_type": "execute_result"
    }
   ],
   "execution_count": 8
  },
  {
   "metadata": {
    "ExecuteTime": {
     "end_time": "2025-09-20T22:18:52.900436Z",
     "start_time": "2025-09-20T22:18:52.854753Z"
    }
   },
   "cell_type": "code",
   "source": [
    "# Cell 9: train attack classifier on shadow proba features\n",
    "attack_clf = LogisticRegression(max_iter=500)\n",
    "attack_clf.fit(X_attack_feats, y_attack_labels)\n",
    "\n",
    "# victim features for attack\n",
    "proba_tr_v = mlp.predict_proba(X_tr)\n",
    "proba_te_v = mlp.predict_proba(X_te_all)\n",
    "X_victim_attack = np.vstack([proba_tr_v, proba_te_v])\n",
    "\n",
    "attack_scores_ml = attack_clf.predict_proba(X_victim_attack)[:, 1]  # prob of being member\n",
    "\n",
    "print(\"Attack-classifier (proba features) on MLP:\")\n",
    "print_metrics(y_eval_is_member, attack_scores_ml, name=\"AttackClf-MLP\")\n"
   ],
   "id": "d5f8e0f525c15a61",
   "outputs": [
    {
     "name": "stdout",
     "output_type": "stream",
     "text": [
      "Attack-classifier (proba features) on MLP:\n",
      "AttackClf-MLP AUC: 0.5326\n",
      "  TPR@FPR=0.001: 0.1935\n",
      "  TPR@FPR=0.010: 0.1935\n",
      "  TPR@FPR=0.100: 0.1935\n"
     ]
    },
    {
     "data": {
      "text/plain": [
       "0.5326420890937019"
      ]
     },
     "execution_count": 9,
     "metadata": {},
     "output_type": "execute_result"
    }
   ],
   "execution_count": 9
  },
  {
   "metadata": {
    "ExecuteTime": {
     "end_time": "2025-09-20T22:18:57.311123Z",
     "start_time": "2025-09-20T22:18:57.288697Z"
    }
   },
   "cell_type": "code",
   "source": [
    "# Cell 10: label-only attack\n",
    "enc = OneHotEncoder(sparse_output=False, handle_unknown='ignore')\n",
    "X_label_ohe = enc.fit_transform(X_label_feats)   # train on shadow-predicted labels\n",
    "\n",
    "lbl_attack_clf = LogisticRegression(max_iter=500)\n",
    "lbl_attack_clf.fit(X_label_ohe, y_label_members)\n",
    "\n",
    "victim_lbl_tr = mlp.predict(X_tr).reshape(-1,1)\n",
    "victim_lbl_te = mlp.predict(X_te_all).reshape(-1,1)\n",
    "X_v_lbl_ohe = enc.transform(np.vstack([victim_lbl_tr, victim_lbl_te]))\n",
    "\n",
    "lbl_attack_scores = lbl_attack_clf.predict_proba(X_v_lbl_ohe)[:, 1]\n",
    "\n",
    "print(\"Label-only attack (MLP):\")\n",
    "print_metrics(y_eval_is_member, lbl_attack_scores, name=\"LabelOnly-MLP\")\n"
   ],
   "id": "cb3b2bb0e2771ed2",
   "outputs": [
    {
     "name": "stdout",
     "output_type": "stream",
     "text": [
      "Label-only attack (MLP):\n",
      "LabelOnly-MLP AUC: 0.5177\n",
      "  TPR@FPR=0.001: 0.0010\n",
      "  TPR@FPR=0.010: 0.0102\n",
      "  TPR@FPR=0.100: 0.1016\n"
     ]
    },
    {
     "data": {
      "text/plain": [
       "0.5176651305683564"
      ]
     },
     "execution_count": 10,
     "metadata": {},
     "output_type": "execute_result"
    }
   ],
   "execution_count": 10
  },
  {
   "metadata": {
    "ExecuteTime": {
     "end_time": "2025-09-20T22:19:01.999472Z",
     "start_time": "2025-09-20T22:19:01.871963Z"
    }
   },
   "cell_type": "code",
   "source": [
    "# Cell 11: summary & ROC plot\n",
    "from sklearn.metrics import roc_curve\n",
    "\n",
    "auc_thresh = roc_auc_score(y_eval_is_member, thresh_scores_mlp)\n",
    "auc_att = roc_auc_score(y_eval_is_member, attack_scores_ml)\n",
    "auc_label = roc_auc_score(y_eval_is_member, lbl_attack_scores)\n",
    "\n",
    "print(\"Summary AUCs (MLP):\")\n",
    "print(f\"  Threshold : {auc_thresh:.4f}\")\n",
    "print(f\"  AttackClf : {auc_att:.4f}\")\n",
    "print(f\"  LabelOnly : {auc_label:.4f}\")\n",
    "\n",
    "fpr_t, tpr_t, _ = roc_curve(y_eval_is_member, thresh_scores_mlp)\n",
    "fpr_a, tpr_a, _ = roc_curve(y_eval_is_member, attack_scores_ml)\n",
    "fpr_lo, tpr_lo, _ = roc_curve(y_eval_is_member, lbl_attack_scores)\n",
    "\n",
    "plt.figure(figsize=(10,8))\n",
    "plt.plot(fpr_t, tpr_t, label=f\"Threshold (AUC={auc_thresh:.3f})\", linewidth=2)\n",
    "plt.plot(fpr_a, tpr_a, label=f\"AttackClf (AUC={auc_att:.3f})\", linewidth=2)\n",
    "plt.plot(fpr_lo, tpr_lo, label=f\"LabelOnly (AUC={auc_label:.3f})\", linewidth=2)\n",
    "plt.plot([0,1],[0,1],'k--', alpha=0.6)\n",
    "plt.xlabel(\"False Positive Rate\")\n",
    "plt.ylabel(\"True Positive Rate\")\n",
    "plt.title(\"MIA attacks vs MLP victim\")\n",
    "plt.legend(loc=\"lower right\")\n",
    "plt.grid(ls=\":\", alpha=0.6)\n",
    "plt.show()\n"
   ],
   "id": "68dbc363b9fb64a7",
   "outputs": [
    {
     "name": "stdout",
     "output_type": "stream",
     "text": [
      "Summary AUCs (MLP):\n",
      "  Threshold : 0.9305\n",
      "  AttackClf : 0.5326\n",
      "  LabelOnly : 0.5177\n"
     ]
    },
    {
     "data": {
      "text/plain": [
       "<Figure size 1000x800 with 1 Axes>"
      ],
      "image/png": "[encoded data removed]"
     },
     "metadata": {},
     "output_type": "display_data"
    }
   ],
   "execution_count": 11
  },
  {
   "metadata": {
    "ExecuteTime": {
     "end_time": "2025-09-20T22:19:07.403842Z",
     "start_time": "2025-09-20T22:19:07.382099Z"
    }
   },
   "cell_type": "code",
   "source": [
    "# Cell 12: save scores for reporting\n",
    "out_df = pd.DataFrame({\n",
    "    \"is_member\": y_eval_is_member,\n",
    "    \"loss_eval\": loss_eval_mlp,\n",
    "    \"thresh_score\": thresh_scores_mlp,\n",
    "    \"attack_score\": attack_scores_ml,\n",
    "    \"labelonly_score\": lbl_attack_scores\n",
    "})\n",
    "out_df.to_csv(\"mlp_mia_scores.csv\", index=False)\n",
    "print(\"Saved mlp_mia_scores.csv\")\n"
   ],
   "id": "a925456965e710d9",
   "outputs": [
    {
     "name": "stdout",
     "output_type": "stream",
     "text": [
      "Saved mlp_mia_scores.csv\n"
     ]
    }
   ],
   "execution_count": 12
  },
  {
   "metadata": {},
   "cell_type": "code",
   "outputs": [],
   "execution_count": null,
   "source": "",
   "id": "57d93d5b2f2af8f2"
  }
 ],
 "metadata": {
  "kernelspec": {
   "display_name": "Python 3",
   "language": "python",
   "name": "python3"
  },
  "language_info": {
   "codemirror_mode": {
    "name": "ipython",
    "version": 2
   },
   "file_extension": ".py",
   "mimetype": "text/x-python",
   "name": "python",
   "nbconvert_exporter": "python",
   "pygments_lexer": "ipython2",
   "version": "2.7.6"
  }
 },
 "nbformat": 4,
 "nbformat_minor": 5
}
