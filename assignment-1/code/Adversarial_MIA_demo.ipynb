{
 "cells": [
  {
   "cell_type": "markdown",
   "id": "9746ed6d",
   "metadata": {},
   "source": [
    "## Adversarial Membership Inference Attack: Technique Overview\n",
    "This technique aims to determine whether a specific data point was part of a model's training set (member) or not (non-member).\n",
    "\n",
    "**How it works:**\n",
    "1. **Victim Model**: Train a target model (e.g., MLPClassifier) on real data.\n",
    "2. **Shadow Models**: Train multiple models on random subsets of the data to simulate the victim's behavior for both members and non-members.\n",
    "3. **Feature Extraction**: For each shadow model, collect features such as output probabilities, per-example loss, and prediction entropy for both member and non-member samples.\n",
    "4. **Attack Model**: Train a neural network (adversarial model) to distinguish members from non-members using these features.\n",
    "5. **Inference**: Apply the attack model to the victim model's outputs to predict membership for new samples.\n",
    "\n",
    "**Why it works:**\n",
    "Models often behave differently on data they have seen during training (members) versus unseen data (non-members). The adversarial attack exploits these subtle differences in output statistics to infer membership, even without access to the victim model's internals (black-box setting)."
   ]
  },
  {
   "cell_type": "markdown",
   "id": "4250415e",
   "metadata": {},
   "source": [
    "### Library Imports Explained\n",
    "- **numpy, pandas**: For data manipulation and numerical operations.\n",
    "- **matplotlib.pyplot**: For plotting and visualizations.\n",
    "- **scikit-learn modules**: For data preprocessing, model training, evaluation, and metrics.\n",
    "- **MLPClassifier**: Used to train the victim and shadow models for membership inference.\n",
    "- **tensorflow, keras**: For building and training the adversarial attack neural network.\n",
    "- **resample**: For creating shadow model training/test splits.\n",
    "\n",
    "These libraries together enable the workflow for adversarial membership inference attacks: loading and processing data, training models, generating attack features, and evaluating attack effectiveness."
   ]
  },
  {
   "cell_type": "markdown",
   "id": "305681c7",
   "metadata": {
    "id": "305681c7"
   },
   "source": [
    "# Adversarial Membership Inference Attack Demo\n",
    "This notebook demonstrates an adversarial (neural network-based) attack for membership inference."
   ]
  },
  {
   "cell_type": "markdown",
   "id": "3c751359",
   "metadata": {
    "id": "3c751359"
   },
   "source": [
    "## 1. Install and Import Required Libraries\n",
    "Uncomment the pip line if needed."
   ]
  },
  {
   "cell_type": "code",
   "id": "c4a3e6ea",
   "metadata": {
    "id": "c4a3e6ea",
    "ExecuteTime": {
     "end_time": "2025-09-21T22:19:28.269922Z",
     "start_time": "2025-09-21T22:19:28.267043Z"
    }
   },
   "source": [
    "# Uncomment if needed\n",
    "# !pip install -U scikit-learn numpy matplotlib pandas tensorflow\n",
    "\n",
    "import numpy as np\n",
    "import pandas as pd\n",
    "import matplotlib.pyplot as plt\n",
    "from sklearn.model_selection import train_test_split\n",
    "from sklearn.feature_extraction.text import TfidfVectorizer\n",
    "from sklearn.preprocessing import LabelEncoder\n",
    "from sklearn.neural_network import MLPClassifier\n",
    "from sklearn.utils import resample\n",
    "from sklearn.metrics import roc_auc_score, roc_curve\n",
    "\n"
   ],
   "outputs": [],
   "execution_count": 3
  },
  {
   "cell_type": "code",
   "id": "a7b513a5",
   "metadata": {
    "id": "a7b513a5",
    "ExecuteTime": {
     "end_time": "2025-09-21T22:19:29.470216Z",
     "start_time": "2025-09-21T22:19:29.425808Z"
    }
   },
   "source": [
    "import tensorflow as tf\n",
    "from tensorflow.keras import layers, models"
   ],
   "outputs": [
    {
     "ename": "ModuleNotFoundError",
     "evalue": "No module named 'tensorflow'",
     "output_type": "error",
     "traceback": [
      "\u001B[31m---------------------------------------------------------------------------\u001B[39m",
      "\u001B[31mModuleNotFoundError\u001B[39m                       Traceback (most recent call last)",
      "\u001B[36mCell\u001B[39m\u001B[36m \u001B[39m\u001B[32mIn[4]\u001B[39m\u001B[32m, line 1\u001B[39m\n\u001B[32m----> \u001B[39m\u001B[32m1\u001B[39m \u001B[38;5;28;01mimport\u001B[39;00m\u001B[38;5;250m \u001B[39m\u001B[34;01mtensorflow\u001B[39;00m\u001B[38;5;250m \u001B[39m\u001B[38;5;28;01mas\u001B[39;00m\u001B[38;5;250m \u001B[39m\u001B[34;01mtf\u001B[39;00m\n\u001B[32m      2\u001B[39m \u001B[38;5;28;01mfrom\u001B[39;00m\u001B[38;5;250m \u001B[39m\u001B[34;01mtensorflow\u001B[39;00m\u001B[34;01m.\u001B[39;00m\u001B[34;01mkeras\u001B[39;00m\u001B[38;5;250m \u001B[39m\u001B[38;5;28;01mimport\u001B[39;00m layers, models\n",
      "\u001B[31mModuleNotFoundError\u001B[39m: No module named 'tensorflow'"
     ]
    }
   ],
   "execution_count": 4
  },
  {
   "cell_type": "markdown",
   "id": "64794ee9",
   "metadata": {
    "id": "64794ee9"
   },
   "source": [
    "## 2. Prepare Synthetic Dataset\n",
    "We use synthetic text data for demonstration. You can replace this with your own dataset."
   ]
  },
  {
   "cell_type": "code",
   "id": "8f6db649",
   "metadata": {
    "id": "8f6db649",
    "ExecuteTime": {
     "end_time": "2025-09-21T22:19:37.544192Z",
     "start_time": "2025-09-21T22:19:37.506893Z"
    }
   },
   "source": [
    "# Load and process EduPilot dataset\n",
    "LABEL_COL = 'interview_round'  # or your actual label column name\n",
    "df = pd.read_csv('EduPilot_dataset.csv')  # update path if needed\n",
    "df = df.dropna(subset=[LABEL_COL])\n",
    "label_words = sorted(df[LABEL_COL].unique())\n",
    "label_to_id = {w: i for i, w in enumerate(label_words)}\n",
    "y = df[LABEL_COL].map(label_to_id).astype(int).values\n",
    "text_cols = ['user_query', 'job_role', 'company', 'location', 'mock_question']\n",
    "df['text'] = df[text_cols].fillna('').agg(' | '.join, axis=1)\n",
    "vec = TfidfVectorizer(max_features=1000, ngram_range=(1,2))\n",
    "X = vec.fit_transform(df['text'])\n",
    "# Split into train/test\n",
    "X_train, X_test, y_train, y_test = train_test_split(X, y, test_size=0.35, stratify=y, random_state=42)\n"
   ],
   "outputs": [],
   "execution_count": 5
  },
  {
   "cell_type": "markdown",
   "id": "39f32fd1",
   "metadata": {
    "id": "39f32fd1"
   },
   "source": [
    "## 3. Train Victim Model\n",
    "Train an MLP classifier as the victim model."
   ]
  },
  {
   "cell_type": "code",
   "execution_count": 5,
   "id": "fc8b4578",
   "metadata": {
    "colab": {
     "base_uri": "https://localhost:8080/"
    },
    "id": "fc8b4578",
    "outputId": "0624a651-24ad-40c1-d3bd-20b0edf6c224"
   },
   "outputs": [
    {
     "name": "stdout",
     "output_type": "stream",
     "text": [
      "Victim train mean loss: 0.0086\n",
      "Victim test mean loss: 0.0997\n"
     ]
    }
   ],
   "source": [
    "victim = MLPClassifier(hidden_layer_sizes=(128,), max_iter=300, random_state=123)\n",
    "victim.fit(X_train, y_train)\n",
    "\n",
    "def per_example_loss(model, Xmat, y_true, eps=1e-12):\n",
    "    proba = model.predict_proba(Xmat)\n",
    "    rows = np.arange(Xmat.shape[0])\n",
    "    p_true = np.clip(proba[rows, y_true], eps, 1.0-eps)\n",
    "    return -np.log(p_true)\n",
    "\n",
    "train_losses = per_example_loss(victim, X_train, y_train)\n",
    "test_losses = per_example_loss(victim, X_test, y_test)\n",
    "print(f\"Victim train mean loss: {train_losses.mean():.4f}\")\n",
    "print(f\"Victim test mean loss: {test_losses.mean():.4f}\")\n"
   ]
  },
  {
   "cell_type": "markdown",
   "id": "7ab1134d",
   "metadata": {
    "id": "7ab1134d"
   },
   "source": [
    "## 4. Train Shadow Models\n",
    "Train multiple shadow models to generate data for the adversarial attack."
   ]
  },
  {
   "cell_type": "code",
   "execution_count": 6,
   "id": "081b758e",
   "metadata": {
    "colab": {
     "base_uri": "https://localhost:8080/"
    },
    "id": "081b758e",
    "outputId": "b7515a9c-d753-4d98-f35f-0925d53f0a37"
   },
   "outputs": [
    {
     "name": "stderr",
     "output_type": "stream",
     "text": [
      "/usr/local/lib/python3.12/dist-packages/sklearn/neural_network/_multilayer_perceptron.py:691: ConvergenceWarning: Stochastic Optimizer: Maximum iterations (200) reached and the optimization hasn't converged yet.\n",
      "  warnings.warn(\n",
      "/usr/local/lib/python3.12/dist-packages/sklearn/neural_network/_multilayer_perceptron.py:691: ConvergenceWarning: Stochastic Optimizer: Maximum iterations (200) reached and the optimization hasn't converged yet.\n",
      "  warnings.warn(\n",
      "/usr/local/lib/python3.12/dist-packages/sklearn/neural_network/_multilayer_perceptron.py:691: ConvergenceWarning: Stochastic Optimizer: Maximum iterations (200) reached and the optimization hasn't converged yet.\n",
      "  warnings.warn(\n",
      "/usr/local/lib/python3.12/dist-packages/sklearn/neural_network/_multilayer_perceptron.py:691: ConvergenceWarning: Stochastic Optimizer: Maximum iterations (200) reached and the optimization hasn't converged yet.\n",
      "  warnings.warn(\n",
      "/usr/local/lib/python3.12/dist-packages/sklearn/neural_network/_multilayer_perceptron.py:691: ConvergenceWarning: Stochastic Optimizer: Maximum iterations (200) reached and the optimization hasn't converged yet.\n",
      "  warnings.warn(\n",
      "/usr/local/lib/python3.12/dist-packages/sklearn/neural_network/_multilayer_perceptron.py:691: ConvergenceWarning: Stochastic Optimizer: Maximum iterations (200) reached and the optimization hasn't converged yet.\n",
      "  warnings.warn(\n",
      "/usr/local/lib/python3.12/dist-packages/sklearn/neural_network/_multilayer_perceptron.py:691: ConvergenceWarning: Stochastic Optimizer: Maximum iterations (200) reached and the optimization hasn't converged yet.\n",
      "  warnings.warn(\n",
      "/usr/local/lib/python3.12/dist-packages/sklearn/neural_network/_multilayer_perceptron.py:691: ConvergenceWarning: Stochastic Optimizer: Maximum iterations (200) reached and the optimization hasn't converged yet.\n",
      "  warnings.warn(\n",
      "/usr/local/lib/python3.12/dist-packages/sklearn/neural_network/_multilayer_perceptron.py:691: ConvergenceWarning: Stochastic Optimizer: Maximum iterations (200) reached and the optimization hasn't converged yet.\n",
      "  warnings.warn(\n",
      "/usr/local/lib/python3.12/dist-packages/sklearn/neural_network/_multilayer_perceptron.py:691: ConvergenceWarning: Stochastic Optimizer: Maximum iterations (200) reached and the optimization hasn't converged yet.\n",
      "  warnings.warn(\n",
      "/usr/local/lib/python3.12/dist-packages/sklearn/neural_network/_multilayer_perceptron.py:691: ConvergenceWarning: Stochastic Optimizer: Maximum iterations (200) reached and the optimization hasn't converged yet.\n",
      "  warnings.warn(\n"
     ]
    },
    {
     "name": "stdout",
     "output_type": "stream",
     "text": [
      "Attack data shape: (2310, 7)\n"
     ]
    }
   ],
   "source": [
    "K_SHADOWS = 30\n",
    "attack_X = []\n",
    "attack_y = []\n",
    "\n",
    "for k in range(K_SHADOWS):\n",
    "    idx = np.arange(X_train.shape[0])\n",
    "    tr_idx = resample(idx, n_samples=int(0.6*len(idx)), replace=True, random_state=1000+k)\n",
    "    te_idx = resample(idx, n_samples=int(0.4*len(idx)), replace=True, random_state=2000+k)\n",
    "    Xs_tr, ys_tr = X_train[tr_idx], y_train[tr_idx]\n",
    "    Xs_te, ys_te = X_train[te_idx], y_train[te_idx]\n",
    "\n",
    "    sh = MLPClassifier(hidden_layer_sizes=(128,), max_iter=200, random_state=42+k)\n",
    "    sh.fit(Xs_tr, ys_tr)\n",
    "\n",
    "    # Use output probabilities, loss, and entropy as features\n",
    "    def entropy(proba):\n",
    "        return -np.sum(proba * np.log(proba + 1e-12), axis=1)\n",
    "\n",
    "    # Member examples\n",
    "    proba_tr = sh.predict_proba(Xs_tr)\n",
    "    loss_tr = per_example_loss(sh, Xs_tr, ys_tr)\n",
    "    ent_tr = entropy(proba_tr)\n",
    "    for i in range(len(loss_tr)):\n",
    "        attack_X.append(np.concatenate([proba_tr[i], [loss_tr[i], ent_tr[i]]]))\n",
    "        attack_y.append(1)\n",
    "    # Non-member examples\n",
    "    proba_te = sh.predict_proba(Xs_te)\n",
    "    loss_te = per_example_loss(sh, Xs_te, ys_te)\n",
    "    ent_te = entropy(proba_te)\n",
    "    for i in range(len(loss_te)):\n",
    "        attack_X.append(np.concatenate([proba_te[i], [loss_te[i], ent_te[i]]]))\n",
    "        attack_y.append(0)\n",
    "\n",
    "attack_X = np.array(attack_X)\n",
    "attack_y = np.array(attack_y)\n",
    "print(f\"Attack data shape: {attack_X.shape}\")\n"
   ]
  },
  {
   "cell_type": "markdown",
   "id": "8dbdf759",
   "metadata": {
    "id": "8dbdf759"
   },
   "source": [
    "## 5. Train Adversarial Attack Model\n",
    "Use a neural network to distinguish members from non-members using attack features."
   ]
  },
  {
   "cell_type": "code",
   "execution_count": 7,
   "id": "fa6acfb6",
   "metadata": {
    "colab": {
     "base_uri": "https://localhost:8080/"
    },
    "id": "fa6acfb6",
    "outputId": "65b24f2d-30cf-4f1c-87fd-429cef8ea651"
   },
   "outputs": [
    {
     "name": "stdout",
     "output_type": "stream",
     "text": [
      "Epoch 1/15\n"
     ]
    },
    {
     "name": "stderr",
     "output_type": "stream",
     "text": [
      "/usr/local/lib/python3.12/dist-packages/keras/src/layers/core/dense.py:93: UserWarning: Do not pass an `input_shape`/`input_dim` argument to a layer. When using Sequential models, prefer using an `Input(shape)` object as the first layer in the model instead.\n",
      "  super().__init__(activity_regularizer=activity_regularizer, **kwargs)\n"
     ]
    },
    {
     "name": "stdout",
     "output_type": "stream",
     "text": [
      "\u001B[1m29/29\u001B[0m \u001B[32m━━━━━━━━━━━━━━━━━━━━\u001B[0m\u001B[37m\u001B[0m \u001B[1m2s\u001B[0m 12ms/step - accuracy: 0.4836 - loss: 0.6933 - val_accuracy: 0.7056 - val_loss: 0.6481\n",
      "Epoch 2/15\n",
      "\u001B[1m29/29\u001B[0m \u001B[32m━━━━━━━━━━━━━━━━━━━━\u001B[0m\u001B[37m\u001B[0m \u001B[1m0s\u001B[0m 5ms/step - accuracy: 0.7271 - loss: 0.6309 - val_accuracy: 0.7121 - val_loss: 0.5976\n",
      "Epoch 3/15\n",
      "\u001B[1m29/29\u001B[0m \u001B[32m━━━━━━━━━━━━━━━━━━━━\u001B[0m\u001B[37m\u001B[0m \u001B[1m0s\u001B[0m 5ms/step - accuracy: 0.7374 - loss: 0.5748 - val_accuracy: 0.7359 - val_loss: 0.5613\n",
      "Epoch 4/15\n",
      "\u001B[1m29/29\u001B[0m \u001B[32m━━━━━━━━━━━━━━━━━━━━\u001B[0m\u001B[37m\u001B[0m \u001B[1m0s\u001B[0m 5ms/step - accuracy: 0.7520 - loss: 0.5504 - val_accuracy: 0.7403 - val_loss: 0.5376\n",
      "Epoch 5/15\n",
      "\u001B[1m29/29\u001B[0m \u001B[32m━━━━━━━━━━━━━━━━━━━━\u001B[0m\u001B[37m\u001B[0m \u001B[1m0s\u001B[0m 5ms/step - accuracy: 0.7696 - loss: 0.5159 - val_accuracy: 0.7597 - val_loss: 0.5161\n",
      "Epoch 6/15\n",
      "\u001B[1m29/29\u001B[0m \u001B[32m━━━━━━━━━━━━━━━━━━━━\u001B[0m\u001B[37m\u001B[0m \u001B[1m0s\u001B[0m 5ms/step - accuracy: 0.7809 - loss: 0.4991 - val_accuracy: 0.7792 - val_loss: 0.5019\n",
      "Epoch 7/15\n",
      "\u001B[1m29/29\u001B[0m \u001B[32m━━━━━━━━━━━━━━━━━━━━\u001B[0m\u001B[37m\u001B[0m \u001B[1m0s\u001B[0m 5ms/step - accuracy: 0.7841 - loss: 0.4908 - val_accuracy: 0.7814 - val_loss: 0.4944\n",
      "Epoch 8/15\n",
      "\u001B[1m29/29\u001B[0m \u001B[32m━━━━━━━━━━━━━━━━━━━━\u001B[0m\u001B[37m\u001B[0m \u001B[1m0s\u001B[0m 5ms/step - accuracy: 0.7911 - loss: 0.4790 - val_accuracy: 0.7814 - val_loss: 0.4903\n",
      "Epoch 9/15\n",
      "\u001B[1m29/29\u001B[0m \u001B[32m━━━━━━━━━━━━━━━━━━━━\u001B[0m\u001B[37m\u001B[0m \u001B[1m0s\u001B[0m 5ms/step - accuracy: 0.7718 - loss: 0.4918 - val_accuracy: 0.7835 - val_loss: 0.4873\n",
      "Epoch 10/15\n",
      "\u001B[1m29/29\u001B[0m \u001B[32m━━━━━━━━━━━━━━━━━━━━\u001B[0m\u001B[37m\u001B[0m \u001B[1m0s\u001B[0m 5ms/step - accuracy: 0.7851 - loss: 0.4777 - val_accuracy: 0.7835 - val_loss: 0.4796\n",
      "Epoch 11/15\n",
      "\u001B[1m29/29\u001B[0m \u001B[32m━━━━━━━━━━━━━━━━━━━━\u001B[0m\u001B[37m\u001B[0m \u001B[1m0s\u001B[0m 5ms/step - accuracy: 0.7986 - loss: 0.4674 - val_accuracy: 0.7814 - val_loss: 0.4802\n",
      "Epoch 12/15\n",
      "\u001B[1m29/29\u001B[0m \u001B[32m━━━━━━━━━━━━━━━━━━━━\u001B[0m\u001B[37m\u001B[0m \u001B[1m0s\u001B[0m 5ms/step - accuracy: 0.8021 - loss: 0.4613 - val_accuracy: 0.7814 - val_loss: 0.4806\n",
      "Epoch 13/15\n",
      "\u001B[1m29/29\u001B[0m \u001B[32m━━━━━━━━━━━━━━━━━━━━\u001B[0m\u001B[37m\u001B[0m \u001B[1m0s\u001B[0m 5ms/step - accuracy: 0.8002 - loss: 0.4568 - val_accuracy: 0.7835 - val_loss: 0.4792\n",
      "Epoch 14/15\n",
      "\u001B[1m29/29\u001B[0m \u001B[32m━━━━━━━━━━━━━━━━━━━━\u001B[0m\u001B[37m\u001B[0m \u001B[1m0s\u001B[0m 5ms/step - accuracy: 0.7950 - loss: 0.4583 - val_accuracy: 0.7835 - val_loss: 0.4747\n",
      "Epoch 15/15\n",
      "\u001B[1m29/29\u001B[0m \u001B[32m━━━━━━━━━━━━━━━━━━━━\u001B[0m\u001B[37m\u001B[0m \u001B[1m0s\u001B[0m 5ms/step - accuracy: 0.8081 - loss: 0.4439 - val_accuracy: 0.7814 - val_loss: 0.4744\n"
     ]
    }
   ],
   "source": [
    "# Split attack data for training/validation\n",
    "from sklearn.model_selection import train_test_split\n",
    "attack_X_train, attack_X_val, attack_y_train, attack_y_val = train_test_split(\n",
    "    attack_X, attack_y, test_size=0.2, stratify=attack_y, random_state=42)\n",
    "\n",
    "# Build neural network attack model\n",
    "input_dim = attack_X.shape[1]\n",
    "attack_model = models.Sequential([\n",
    "    layers.Dense(64, activation='relu', input_shape=(input_dim,)),\n",
    "    layers.Dense(32, activation='relu'),\n",
    "    layers.Dense(1, activation='sigmoid')\n",
    "])\n",
    "attack_model.compile(optimizer='adam', loss='binary_crossentropy', metrics=['accuracy'])\n",
    "\n",
    "history = attack_model.fit(attack_X_train, attack_y_train, epochs=15, batch_size=64,\n",
    "                           validation_data=(attack_X_val, attack_y_val), verbose=1)\n"
   ]
  },
  {
   "cell_type": "markdown",
   "id": "ff0be8d6",
   "metadata": {
    "id": "ff0be8d6"
   },
   "source": [
    "## 6. Evaluate Adversarial Attack on Victim Model\n",
    "Use the trained attack model to infer membership for victim model examples."
   ]
  },
  {
   "cell_type": "code",
   "execution_count": 8,
   "id": "cc7e1d8d",
   "metadata": {
    "colab": {
     "base_uri": "https://localhost:8080/",
     "height": 523
    },
    "id": "cc7e1d8d",
    "outputId": "39bda01e-85ce-4388-936a-ac02cbbad14e"
   },
   "outputs": [
    {
     "name": "stdout",
     "output_type": "stream",
     "text": [
      "\u001B[1m4/4\u001B[0m \u001B[32m━━━━━━━━━━━━━━━━━━━━\u001B[0m\u001B[37m\u001B[0m \u001B[1m0s\u001B[0m 17ms/step\n",
      "Adversarial Attack ROC-AUC: 0.8840\n"
     ]
    },
    {
     "data": {
      "image/png": "[encoded data removed]",
      "text/plain": [
       "<Figure size 700x500 with 1 Axes>"
      ]
     },
     "metadata": {},
     "output_type": "display_data"
    }
   ],
   "source": [
    "# Prepare victim model features for attack\n",
    "victim_proba_train = victim.predict_proba(X_train)\n",
    "victim_loss_train = per_example_loss(victim, X_train, y_train)\n",
    "victim_ent_train = -np.sum(victim_proba_train * np.log(victim_proba_train + 1e-12), axis=1)\n",
    "\n",
    "victim_proba_test = victim.predict_proba(X_test)\n",
    "victim_loss_test = per_example_loss(victim, X_test, y_test)\n",
    "victim_ent_test = -np.sum(victim_proba_test * np.log(victim_proba_test + 1e-12), axis=1)\n",
    "\n",
    "victim_attack_X = np.concatenate([\n",
    "    np.concatenate([victim_proba_train, victim_loss_train[:,None], victim_ent_train[:,None]], axis=1),\n",
    "    np.concatenate([victim_proba_test, victim_loss_test[:,None], victim_ent_test[:,None]], axis=1)\n",
    "], axis=0)\n",
    "victim_attack_y = np.concatenate([np.ones_like(victim_loss_train), np.zeros_like(victim_loss_test)])\n",
    "\n",
    "# Predict membership\n",
    "attack_pred = attack_model.predict(victim_attack_X).flatten()\n",
    "auc = roc_auc_score(victim_attack_y, attack_pred)\n",
    "fpr, tpr, _ = roc_curve(victim_attack_y, attack_pred)\n",
    "\n",
    "print(f\"Adversarial Attack ROC-AUC: {auc:.4f}\")\n",
    "plt.figure(figsize=(7,5))\n",
    "plt.plot(fpr, tpr, label=f'Adversarial Attack (AUC={auc:.3f})', lw=2)\n",
    "plt.plot([0,1],[0,1],'k--', alpha=0.5)\n",
    "plt.xlabel(\"False Positive Rate\")\n",
    "plt.ylabel(\"True Positive Rate\")\n",
    "plt.title(\"Adversarial Membership Inference ROC Curve\")\n",
    "plt.legend()\n",
    "plt.grid(True, alpha=0.3)\n",
    "plt.show()\n"
   ]
  }
 ],
 "metadata": {
  "colab": {
   "provenance": []
  },
  "kernelspec": {
   "display_name": ".venv",
   "language": "python",
   "name": "python3"
  },
  "language_info": {
   "codemirror_mode": {
    "name": "ipython",
    "version": 3
   },
   "file_extension": ".py",
   "mimetype": "text/x-python",
   "name": "python",
   "nbconvert_exporter": "python",
   "pygments_lexer": "ipython3",
   "version": "3.13.7"
  }
 },
 "nbformat": 4,
 "nbformat_minor": 5
}
